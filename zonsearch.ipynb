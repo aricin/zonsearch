{
 "cells": [
  {
   "cell_type": "code",
   "execution_count": null,
   "metadata": {},
   "outputs": [],
   "source": [
    "from openai import OpenAI\n",
    "import pinecone\n",
    "from dotenv import load_dotenv\n",
    "import os\n",
    "from tqdm.auto import tqdm\n",
    "from time import sleep\n",
    "from datasets import load_dataset"
   ]
  },
  {
   "cell_type": "code",
   "execution_count": null,
   "metadata": {},
   "outputs": [],
   "source": [
    "load_dotenv()\n",
    "\n",
    "# Initialize OpenAI\n",
    "client = OpenAI()\n",
    "\n",
    "MODEL = \"text-embedding-ada-002\"\n",
    "\n",
    "# Test the embeddings\n",
    "\n",
    "\n",
    "\n",
    "\n",
    "# Initialize connection to pinecone\n",
    "pinecone.init(\n",
    "  api_key=os.environ.get(\"PINECONE_API_KEY\"),\n",
    "  environment=os.environ.get(\"PINECONE_API_ENV\")\n",
    ")\n",
    "\n",
    "index_name = \"zonsearch\"\n",
    "\n",
    "# Check if 'zonsearch' index already exists (only create index if not)\n",
    "if index_name not in pinecone.list_indexes():\n",
    "  pinecone.create_index(index_name, dimension=len(1536))\n",
    "# Connect to index\n",
    "index = pinecone.Index(index_name)"
   ]
  },
  {
   "cell_type": "code",
   "execution_count": null,
   "metadata": {},
   "outputs": [],
   "source": [
    "def get_embedding(text, model=\"text-embedding-ada-002\"):\n",
    "  text = text.replace(\"\\n\", \" \")\n",
    "  return client.embeddings.create(input = [text], model=model).data[0].embedding"
   ]
  },
  {
   "cell_type": "code",
   "execution_count": null,
   "metadata": {},
   "outputs": [],
   "source": [
    "# Test connections to OpenAI and Pinecone\n",
    "embed = get_embedding(\"test\")\n",
    "print(embed)\n",
    "\n",
    "index.describe_index_stats()"
   ]
  },
  {
   "cell_type": "code",
   "execution_count": null,
   "metadata": {},
   "outputs": [],
   "source": [
    "data = load_dataset('bprateek/amazon_product_description', split='train') # Amazon product data from HuggingFace.co\n",
    "data"
   ]
  },
  {
   "cell_type": "code",
   "execution_count": null,
   "metadata": {},
   "outputs": [],
   "source": [
    "data[50]"
   ]
  },
  {
   "cell_type": "code",
   "execution_count": null,
   "metadata": {},
   "outputs": [],
   "source": [
    "# Cleaning up the data\n",
    "\n",
    "new_data = []\n",
    "\n",
    "for i in tqdm(range(0, len(data))):\n",
    "  new_data.append({\n",
    "    'id': data[i]['Uniq Id'] if data[i]['Uniq Id'] is not None else 'None',\n",
    "    'name': data[i]['Product Name'] if data[i]['Product Name'] is not None else 'None',\n",
    "    'category': data[i]['Category'] if data[i]['Category'] is not None else 'None',\n",
    "    'description': data[i]['About Product'] if data[i]['About Product'] is not None else 'None',\n",
    "    'link': data[i]['Product Url'] if data[i]['Product Url'] is not None else 'None',\n",
    "  })"
   ]
  },
  {
   "cell_type": "code",
   "execution_count": null,
   "metadata": {},
   "outputs": [],
   "source": [
    "new_data"
   ]
  },
  {
   "cell_type": "code",
   "execution_count": null,
   "metadata": {},
   "outputs": [],
   "source": [
    "new_data[0]['description'] = '7 inch Chef Knife with maple handle. Made in Japan. Damascus steel blade. Comes with a sheath.'"
   ]
  },
  {
   "cell_type": "code",
   "execution_count": null,
   "metadata": {},
   "outputs": [],
   "source": [
    "embeddings = []\n",
    "\n",
    "for entry in new_data:\n",
    "    # Combine 'name', 'category', and 'description'\n",
    "    combined_text = f\"{entry['name']} | {entry['category']} | {entry['description']}\"\n",
    "\n",
    "    # Generate embedding\n",
    "    try:\n",
    "        response = client.embeddings.create(input=[combined_text], model=MODEL).data[0].embedding\n",
    "        print(response)\n",
    "        embeddings.append(response)\n",
    "    except Exception as e:\n",
    "        print(f\"Error: {e}\")\n",
    "        # Handle error (e.g., skip this entry, retry, etc.)\n",
    "\n",
    "# Now 'embeddings' contains the embedding for each entry"
   ]
  },
  {
   "cell_type": "code",
   "execution_count": null,
   "metadata": {},
   "outputs": [],
   "source": [
    "print(embeddings)"
   ]
  },
  {
   "cell_type": "code",
   "execution_count": null,
   "metadata": {},
   "outputs": [],
   "source": [
    "# Embedding and upserting product data (Only need to run once)\n",
    "\n",
    "batch_size = 100  # how many embeddings we create and insert at once\n",
    "\n",
    "for i in tqdm(range(0, 1, batch_size)):\n",
    "  # find end of batch\n",
    "  i_end = min(len(new_data), i+batch_size)\n",
    "  meta_batch = new_data[i:i_end]\n",
    "  # get ids\n",
    "  ids_batch = [x['id'] for x in meta_batch]\n",
    "  # get texts to encode\n",
    "  texts = [x['description'] for x in meta_batch]\n",
    "  print(texts)\n",
    "\n",
    "  try:\n",
    "    res = client.embeddings.create(input = texts, model=MODEL).data[0].embedding\n",
    "    print(1)\n",
    "  except:\n",
    "    print(2)\n",
    "    done = False\n",
    "    while not done:\n",
    "      sleep(5)\n",
    "      try:\n",
    "        print(3)\n",
    "        res = client.embeddings.create(input = texts, model=MODEL).data[0].embedding\n",
    "        print(4)\n",
    "        done = True\n",
    "      except:\n",
    "        pass\n",
    "\n",
    "  embeds = [record['embedding'] for record in res['data']]\n",
    "  print(embeds)\n",
    "  \n",
    "  # cleanup metadata\n",
    "  meta_batch = [{\n",
    "    'name': x['name'],\n",
    "    'category': x['category'],\n",
    "    'description': x['description'],\n",
    "    'link': x['link']\n",
    "  } for x in meta_batch]\n",
    "  to_upsert = list(zip(ids_batch, embeds, meta_batch))\n",
    "  # upsert to Pinecone\n",
    "  print(index.upsert(vectors=to_upsert))\n"
   ]
  },
  {
   "cell_type": "code",
   "execution_count": null,
   "metadata": {},
   "outputs": [],
   "source": [
    "query = \"\"\n",
    "\n",
    "res = openai.Embedding.create(\n",
    "    input=[query],\n",
    "    engine=MODEL\n",
    ")\n",
    "\n",
    "# retrieve from Pinecone\n",
    "xq = res['data'][0]['embedding']\n",
    "\n",
    "# get relevant contexts (including the questions)\n",
    "res = index.query(xq, top_k=5, include_metadata=True)\n",
    "res"
   ]
  },
  {
   "attachments": {},
   "cell_type": "markdown",
   "metadata": {},
   "source": []
  }
 ],
 "metadata": {
  "kernelspec": {
   "display_name": "remi_env",
   "language": "python",
   "name": "python3"
  },
  "language_info": {
   "codemirror_mode": {
    "name": "ipython",
    "version": 3
   },
   "file_extension": ".py",
   "mimetype": "text/x-python",
   "name": "python",
   "nbconvert_exporter": "python",
   "pygments_lexer": "ipython3",
   "version": "3.10.5"
  },
  "orig_nbformat": 4
 },
 "nbformat": 4,
 "nbformat_minor": 2
}
